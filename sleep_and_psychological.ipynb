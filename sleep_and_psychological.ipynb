{
 "cells": [
  {
   "cell_type": "code",
   "execution_count": 25,
   "metadata": {},
   "outputs": [],
   "source": [
    "import pandas as pd\n"
   ]
  },
  {
   "cell_type": "code",
   "execution_count": 26,
   "metadata": {},
   "outputs": [],
   "source": [
    "\n",
    "\n",
    "# The exact path you are using\n",
    "df = (r'C:\\Users\\niraa\\OneDrive\\Desktop\\sleep and psychological.csv')\n",
    "\n"
   ]
  },
  {
   "cell_type": "code",
   "execution_count": 27,
   "metadata": {},
   "outputs": [],
   "source": [
    "data = pd.read_csv(r'C:\\Users\\niraa\\OneDrive\\Desktop\\sleep and psychological.csv')\n"
   ]
  },
  {
   "cell_type": "code",
   "execution_count": 28,
   "metadata": {},
   "outputs": [
    {
     "name": "stdout",
     "output_type": "stream",
     "text": [
      "   User_ID  Age Gender Favorite_Book_Genre  Weekly_Reading_Time(hours)  \\\n",
      "0        1   24      f             Fiction                           6   \n",
      "1        2   32      m             Science                           2   \n",
      "2        3   18      f             Romance                           8   \n",
      "3        4   45      m             History                           3   \n",
      "4        5   29      f             Fantasy                          10   \n",
      "\n",
      "  Mood_Impact  \n",
      "0    Positive  \n",
      "1     Neutral  \n",
      "2    Positive  \n",
      "3     Neutral  \n",
      "4    Positive  \n"
     ]
    }
   ],
   "source": [
    "print(data.head())"
   ]
  },
  {
   "cell_type": "code",
   "execution_count": 29,
   "metadata": {},
   "outputs": [
    {
     "name": "stdout",
     "output_type": "stream",
     "text": [
      "    User_ID  Age Gender Favorite_Book_Genre  Weekly_Reading_Time(hours)  \\\n",
      "60       61   35      f             Romance                           8   \n",
      "61       62   20      m             Fantasy                           9   \n",
      "62       63   33      f             Science                           1   \n",
      "63       64   30      m           Self-Help                           6   \n",
      "64       65   44      f             History                           3   \n",
      "\n",
      "   Mood_Impact  \n",
      "60    Positive  \n",
      "61    Positive  \n",
      "62    Negative  \n",
      "63    Positive  \n",
      "64     Neutral  \n"
     ]
    }
   ],
   "source": [
    "print(data.tail())"
   ]
  },
  {
   "cell_type": "code",
   "execution_count": 30,
   "metadata": {},
   "outputs": [
    {
     "name": "stdout",
     "output_type": "stream",
     "text": [
      "<class 'pandas.core.frame.DataFrame'>\n",
      "RangeIndex: 65 entries, 0 to 64\n",
      "Data columns (total 6 columns):\n",
      " #   Column                      Non-Null Count  Dtype \n",
      "---  ------                      --------------  ----- \n",
      " 0   User_ID                     65 non-null     int64 \n",
      " 1   Age                         65 non-null     int64 \n",
      " 2   Gender                      65 non-null     object\n",
      " 3   Favorite_Book_Genre         65 non-null     object\n",
      " 4   Weekly_Reading_Time(hours)  65 non-null     int64 \n",
      " 5   Mood_Impact                 65 non-null     object\n",
      "dtypes: int64(3), object(3)\n",
      "memory usage: 3.2+ KB\n",
      "None\n"
     ]
    }
   ],
   "source": [
    "print(data.info())"
   ]
  },
  {
   "cell_type": "code",
   "execution_count": 31,
   "metadata": {},
   "outputs": [
    {
     "name": "stdout",
     "output_type": "stream",
     "text": [
      "        User_ID        Age  Weekly_Reading_Time(hours)\n",
      "count  65.00000  65.000000                   65.000000\n",
      "mean   33.00000  33.000000                    4.646154\n",
      "std    18.90767   9.429011                    2.718172\n",
      "min     1.00000  18.000000                    1.000000\n",
      "25%    17.00000  25.000000                    2.000000\n",
      "50%    33.00000  32.000000                    5.000000\n",
      "75%    49.00000  41.000000                    7.000000\n",
      "max    65.00000  50.000000                   10.000000\n"
     ]
    }
   ],
   "source": [
    "print(data.describe())"
   ]
  },
  {
   "cell_type": "code",
   "execution_count": 32,
   "metadata": {},
   "outputs": [
    {
     "name": "stdout",
     "output_type": "stream",
     "text": [
      "User_ID                       0\n",
      "Age                           0\n",
      "Gender                        0\n",
      "Favorite_Book_Genre           0\n",
      "Weekly_Reading_Time(hours)    0\n",
      "Mood_Impact                   0\n",
      "dtype: int64\n"
     ]
    }
   ],
   "source": [
    "print(data.isnull().sum())"
   ]
  },
  {
   "cell_type": "code",
   "execution_count": 36,
   "metadata": {},
   "outputs": [
    {
     "ename": "AttributeError",
     "evalue": "'str' object has no attribute 'drop'",
     "output_type": "error",
     "traceback": [
      "\u001b[1;31m---------------------------------------------------------------------------\u001b[0m",
      "\u001b[1;31mAttributeError\u001b[0m                            Traceback (most recent call last)",
      "Cell \u001b[1;32mIn[36], line 1\u001b[0m\n\u001b[1;32m----> 1\u001b[0m \u001b[43mdf\u001b[49m\u001b[38;5;241;43m.\u001b[39;49m\u001b[43mdrop\u001b[49m(columns\u001b[38;5;241m=\u001b[39m[\u001b[38;5;124m'\u001b[39m\u001b[38;5;124mPerson ID\u001b[39m\u001b[38;5;124m'\u001b[39m], inplace\u001b[38;5;241m=\u001b[39m\u001b[38;5;28;01mTrue\u001b[39;00m)\n",
      "\u001b[1;31mAttributeError\u001b[0m: 'str' object has no attribute 'drop'"
     ]
    }
   ],
   "source": [
    "df.drop(columns=['Person ID'], inplace=True)"
   ]
  }
 ],
 "metadata": {
  "kernelspec": {
   "display_name": "Python 3",
   "language": "python",
   "name": "python3"
  },
  "language_info": {
   "codemirror_mode": {
    "name": "ipython",
    "version": 3
   },
   "file_extension": ".py",
   "mimetype": "text/x-python",
   "name": "python",
   "nbconvert_exporter": "python",
   "pygments_lexer": "ipython3",
   "version": "3.13.0"
  }
 },
 "nbformat": 4,
 "nbformat_minor": 2
}
