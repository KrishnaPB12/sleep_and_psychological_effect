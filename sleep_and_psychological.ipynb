{
 "cells": [
  {
   "cell_type": "markdown",
   "metadata": {},
   "source": [
    "# Visit Kaggle: https://www.kaggle.com/datasets/hanaksoy/reading-habits-and-mood-impact-dataset"
   ]
  },
  {
   "cell_type": "markdown",
   "metadata": {},
   "source": [
    "Import pandas, matplotlib, and seaborn."
   ]
  },
  {
   "cell_type": "code",
   "execution_count": 16,
   "metadata": {},
   "outputs": [],
   "source": [
    "import pandas as pd\n",
    "import matplotlib.pyplot as plt\n",
    "import seaborn as sns"
   ]
  },
  {
   "cell_type": "markdown",
   "metadata": {},
   "source": [
    "Import the data from kaggle sleep and psychological."
   ]
  },
  {
   "cell_type": "code",
   "execution_count": 17,
   "metadata": {},
   "outputs": [],
   "source": [
    "\n",
    "\n",
    "# The exact path you are using\n",
    "df = (r'C:\\Users\\niraa\\OneDrive\\Desktop\\sleep and psychological.csv')\n",
    "\n"
   ]
  },
  {
   "cell_type": "code",
   "execution_count": 18,
   "metadata": {},
   "outputs": [],
   "source": [
    "data = pd.read_csv(r'C:\\Users\\niraa\\OneDrive\\Desktop\\sleep and psychological.csv')\n"
   ]
  },
  {
   "cell_type": "markdown",
   "metadata": {},
   "source": [
    "We got the top 5 columns."
   ]
  },
  {
   "cell_type": "code",
   "execution_count": 19,
   "metadata": {},
   "outputs": [
    {
     "name": "stdout",
     "output_type": "stream",
     "text": [
      "   User_ID  Age Gender Favorite_Book_Genre  Weekly_Reading_Time(hours)  \\\n",
      "0        1   24      f             Fiction                           6   \n",
      "1        2   32      m             Science                           2   \n",
      "2        3   18      f             Romance                           8   \n",
      "3        4   45      m             History                           3   \n",
      "4        5   29      f             Fantasy                          10   \n",
      "\n",
      "  Mood_Impact  \n",
      "0    Positive  \n",
      "1     Neutral  \n",
      "2    Positive  \n",
      "3     Neutral  \n",
      "4    Positive  \n"
     ]
    }
   ],
   "source": [
    "print(data.head())"
   ]
  },
  {
   "cell_type": "markdown",
   "metadata": {},
   "source": [
    "We got the last 5 columns."
   ]
  },
  {
   "cell_type": "code",
   "execution_count": 20,
   "metadata": {},
   "outputs": [
    {
     "name": "stdout",
     "output_type": "stream",
     "text": [
      "    User_ID  Age Gender Favorite_Book_Genre  Weekly_Reading_Time(hours)  \\\n",
      "60       61   35      f             Romance                           8   \n",
      "61       62   20      m             Fantasy                           9   \n",
      "62       63   33      f             Science                           1   \n",
      "63       64   30      m           Self-Help                           6   \n",
      "64       65   44      f             History                           3   \n",
      "\n",
      "   Mood_Impact  \n",
      "60    Positive  \n",
      "61    Positive  \n",
      "62    Negative  \n",
      "63    Positive  \n",
      "64     Neutral  \n"
     ]
    }
   ],
   "source": [
    "print(data.tail())"
   ]
  },
  {
   "cell_type": "markdown",
   "metadata": {},
   "source": [
    "These are the information about the data."
   ]
  },
  {
   "cell_type": "code",
   "execution_count": 21,
   "metadata": {},
   "outputs": [
    {
     "name": "stdout",
     "output_type": "stream",
     "text": [
      "<class 'pandas.core.frame.DataFrame'>\n",
      "RangeIndex: 65 entries, 0 to 64\n",
      "Data columns (total 6 columns):\n",
      " #   Column                      Non-Null Count  Dtype \n",
      "---  ------                      --------------  ----- \n",
      " 0   User_ID                     65 non-null     int64 \n",
      " 1   Age                         65 non-null     int64 \n",
      " 2   Gender                      65 non-null     object\n",
      " 3   Favorite_Book_Genre         65 non-null     object\n",
      " 4   Weekly_Reading_Time(hours)  65 non-null     int64 \n",
      " 5   Mood_Impact                 65 non-null     object\n",
      "dtypes: int64(3), object(3)\n",
      "memory usage: 3.2+ KB\n",
      "None\n"
     ]
    }
   ],
   "source": [
    "print(data.info())"
   ]
  },
  {
   "cell_type": "markdown",
   "metadata": {},
   "source": [
    "This is the description about the data."
   ]
  },
  {
   "cell_type": "code",
   "execution_count": 22,
   "metadata": {},
   "outputs": [
    {
     "name": "stdout",
     "output_type": "stream",
     "text": [
      "        User_ID        Age  Weekly_Reading_Time(hours)\n",
      "count  65.00000  65.000000                   65.000000\n",
      "mean   33.00000  33.000000                    4.646154\n",
      "std    18.90767   9.429011                    2.718172\n",
      "min     1.00000  18.000000                    1.000000\n",
      "25%    17.00000  25.000000                    2.000000\n",
      "50%    33.00000  32.000000                    5.000000\n",
      "75%    49.00000  41.000000                    7.000000\n",
      "max    65.00000  50.000000                   10.000000\n"
     ]
    }
   ],
   "source": [
    "print(data.describe())"
   ]
  },
  {
   "cell_type": "markdown",
   "metadata": {},
   "source": [
    "Searching if isnull in data."
   ]
  },
  {
   "cell_type": "code",
   "execution_count": 23,
   "metadata": {},
   "outputs": [
    {
     "name": "stdout",
     "output_type": "stream",
     "text": [
      "User_ID                       0\n",
      "Age                           0\n",
      "Gender                        0\n",
      "Favorite_Book_Genre           0\n",
      "Weekly_Reading_Time(hours)    0\n",
      "Mood_Impact                   0\n",
      "dtype: int64\n"
     ]
    }
   ],
   "source": [
    "print(data.isnull().sum())"
   ]
  },
  {
   "cell_type": "markdown",
   "metadata": {},
   "source": [
    "Drop unnessesary columns User_ID."
   ]
  },
  {
   "cell_type": "code",
   "execution_count": 24,
   "metadata": {},
   "outputs": [],
   "source": [
    "data.drop(columns=['User_ID'], inplace=True)"
   ]
  },
  {
   "cell_type": "code",
   "execution_count": 25,
   "metadata": {},
   "outputs": [
    {
     "data": {
      "text/html": [
       "<div>\n",
       "<style scoped>\n",
       "    .dataframe tbody tr th:only-of-type {\n",
       "        vertical-align: middle;\n",
       "    }\n",
       "\n",
       "    .dataframe tbody tr th {\n",
       "        vertical-align: top;\n",
       "    }\n",
       "\n",
       "    .dataframe thead th {\n",
       "        text-align: right;\n",
       "    }\n",
       "</style>\n",
       "<table border=\"1\" class=\"dataframe\">\n",
       "  <thead>\n",
       "    <tr style=\"text-align: right;\">\n",
       "      <th></th>\n",
       "      <th>Age</th>\n",
       "      <th>Gender</th>\n",
       "      <th>Favorite_Book_Genre</th>\n",
       "      <th>Weekly_Reading_Time(hours)</th>\n",
       "      <th>Mood_Impact</th>\n",
       "    </tr>\n",
       "  </thead>\n",
       "  <tbody>\n",
       "    <tr>\n",
       "      <th>0</th>\n",
       "      <td>24</td>\n",
       "      <td>f</td>\n",
       "      <td>Fiction</td>\n",
       "      <td>6</td>\n",
       "      <td>Positive</td>\n",
       "    </tr>\n",
       "    <tr>\n",
       "      <th>1</th>\n",
       "      <td>32</td>\n",
       "      <td>m</td>\n",
       "      <td>Science</td>\n",
       "      <td>2</td>\n",
       "      <td>Neutral</td>\n",
       "    </tr>\n",
       "    <tr>\n",
       "      <th>2</th>\n",
       "      <td>18</td>\n",
       "      <td>f</td>\n",
       "      <td>Romance</td>\n",
       "      <td>8</td>\n",
       "      <td>Positive</td>\n",
       "    </tr>\n",
       "    <tr>\n",
       "      <th>3</th>\n",
       "      <td>45</td>\n",
       "      <td>m</td>\n",
       "      <td>History</td>\n",
       "      <td>3</td>\n",
       "      <td>Neutral</td>\n",
       "    </tr>\n",
       "    <tr>\n",
       "      <th>4</th>\n",
       "      <td>29</td>\n",
       "      <td>f</td>\n",
       "      <td>Fantasy</td>\n",
       "      <td>10</td>\n",
       "      <td>Positive</td>\n",
       "    </tr>\n",
       "  </tbody>\n",
       "</table>\n",
       "</div>"
      ],
      "text/plain": [
       "   Age Gender Favorite_Book_Genre  Weekly_Reading_Time(hours) Mood_Impact\n",
       "0   24      f             Fiction                           6    Positive\n",
       "1   32      m             Science                           2     Neutral\n",
       "2   18      f             Romance                           8    Positive\n",
       "3   45      m             History                           3     Neutral\n",
       "4   29      f             Fantasy                          10    Positive"
      ]
     },
     "execution_count": 25,
     "metadata": {},
     "output_type": "execute_result"
    }
   ],
   "source": [
    "data.head()"
   ]
  },
  {
   "cell_type": "markdown",
   "metadata": {},
   "source": [
    "Selected the column Age."
   ]
  },
  {
   "cell_type": "code",
   "execution_count": 26,
   "metadata": {},
   "outputs": [
    {
     "data": {
      "text/plain": [
       "0    24\n",
       "1    32\n",
       "2    18\n",
       "3    45\n",
       "4    29\n",
       "Name: Age, dtype: int64"
      ]
     },
     "execution_count": 26,
     "metadata": {},
     "output_type": "execute_result"
    }
   ],
   "source": [
    "data [\"Age\"].head()"
   ]
  },
  {
   "cell_type": "markdown",
   "metadata": {},
   "source": [
    "Selected the column Gender."
   ]
  },
  {
   "cell_type": "code",
   "execution_count": 27,
   "metadata": {},
   "outputs": [
    {
     "data": {
      "text/plain": [
       "0    f\n",
       "1    m\n",
       "2    f\n",
       "3    m\n",
       "4    f\n",
       "Name: Gender, dtype: object"
      ]
     },
     "execution_count": 27,
     "metadata": {},
     "output_type": "execute_result"
    }
   ],
   "source": [
    "data [\"Gender\"].head()"
   ]
  },
  {
   "cell_type": "code",
   "execution_count": 28,
   "metadata": {},
   "outputs": [],
   "source": [
    "df = pd.DataFrame(data)\n"
   ]
  },
  {
   "cell_type": "markdown",
   "metadata": {},
   "source": [
    "Showing the relationship between Age and Gender."
   ]
  },
  {
   "cell_type": "code",
   "execution_count": 29,
   "metadata": {},
   "outputs": [
    {
     "data": {
      "image/png": "[encoded data removed]",
      "text/plain": [
       "<Figure size 640x480 with 1 Axes>"
      ]
     },
     "metadata": {},
     "output_type": "display_data"
    }
   ],
   "source": [
    "# Plotting the count of each gender for each age group\n",
    "sns.countplot(data=df, x='Age', hue='Gender')\n",
    "plt.title('Gender vs Age')\n",
    "plt.xlabel('Age')\n",
    "plt.ylabel('Count')\n",
    "plt.show()\n"
   ]
  },
  {
   "cell_type": "markdown",
   "metadata": {},
   "source": [
    "Data Information that helps us understand about the data itself."
   ]
  },
  {
   "cell_type": "markdown",
   "metadata": {},
   "source": [
    "Description:\n",
    "\n",
    "Horizontal Axis (X-axis): Shows the age groups, ranging from 18 to 50.\n",
    "Vertical Axis (Y-axis): Shows the count of individuals within each age group.\n",
    "Bars: There are two sets of bars, one in blue and one in orange.\n",
    "The blue bars represent the count of females in each age group.\n",
    "The orange bars represent the count of males in each age group.\n",
    "Overall Pattern: It appears that the chart shows the distribution of males and females across different age groups. However, without specific values or context, it's difficult to draw concrete conclusions.\n",
    "Possible Interpretations (with caution):\n",
    "\n",
    "If the blue bars are consistently taller than the orange bars across most age groups, it might suggest a higher proportion of females in the dataset.\n",
    "If the orange bars are taller in certain age groups, it could indicate a higher proportion of males in those specific age ranges."
   ]
  },
  {
   "cell_type": "markdown",
   "metadata": {},
   "source": [
    "Age\t    Count\n",
    "18\t    1.00\n",
    "19\t    2.00\n",
    "20\t    2.00\n",
    "21\t    2.00\n",
    "22\t    1.00\n",
    "23\t    1.00\n",
    "24\t    2.00\n",
    "25\t    2.00\n",
    "26\t    2.00\n",
    "27\t    2.00\n",
    "28\t    1.00\n",
    "29\t    1.00\n",
    "30\t    1.00\n",
    "31\t    1.00\n",
    "32\t    1.00\n",
    "33\t    1.00\n",
    "34\t    1.00\n",
    "35\t    1.00\n",
    "36\t    2.00\n",
    "37\t    1.00\n",
    "38\t    1.00\n",
    "39\t    1.00\n",
    "40\t    1.00\n",
    "41\t    2.00\n",
    "42\t    2.00\n",
    "43\t    1.00\n",
    "44\t    1.00\n",
    "45\t    1.00\n",
    "46\t    2.00\n",
    "47      2.00\n",
    "48\t    2.00\n",
    "49\t    1.00\n",
    "50\t    1.00"
   ]
  },
  {
   "cell_type": "markdown",
   "metadata": {},
   "source": [
    "Made data easier and lowercase."
   ]
  },
  {
   "cell_type": "code",
   "execution_count": 30,
   "metadata": {},
   "outputs": [
    {
     "data": {
      "image/png": "[encoded data removed]",
      "text/plain": [
       "<Figure size 640x480 with 1 Axes>"
      ]
     },
     "metadata": {},
     "output_type": "display_data"
    }
   ],
   "source": [
    "sns.boxplot(x='Gender', y='Age', data=data)\n",
    "\n",
    "# Set the title to lowercase\n",
    "plt.title('gender vs age')\n",
    "\n",
    "# Show the plot\n",
    "plt.show()"
   ]
  },
  {
   "cell_type": "markdown",
   "metadata": {},
   "source": [
    "This is a data set. It can be used to analyze the connection between people's weekly reading hours and their emotional state, etc."
   ]
  }
 ],
 "metadata": {
  "kernelspec": {
   "display_name": "Python 3",
   "language": "python",
   "name": "python3"
  },
  "language_info": {
   "codemirror_mode": {
    "name": "ipython",
    "version": 3
   },
   "file_extension": ".py",
   "mimetype": "text/x-python",
   "name": "python",
   "nbconvert_exporter": "python",
   "pygments_lexer": "ipython3",
   "version": "3.13.0"
  }
 },
 "nbformat": 4,
 "nbformat_minor": 2
}
